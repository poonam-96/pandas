{
 "cells": [
  {
   "cell_type": "code",
   "execution_count": 6,
   "metadata": {},
   "outputs": [],
   "source": [
    "import nltk\n",
    "import random\n",
    "from nltk.corpus import movie_reviews"
   ]
  },
  {
   "cell_type": "code",
   "execution_count": 7,
   "metadata": {},
   "outputs": [
    {
     "name": "stdout",
     "output_type": "stream",
     "text": [
      "(['>', 'from', 'writer', 'and', 'director', 'darren', 'stein', 'comes', 'jawbreaker', ',', 'the', 'poorly', 'told', 'tale', 'of', 'what', 'can', 'happen', 'when', 'an', 'innocent', 'birthday', 'prank', 'goes', 'wrong', '.', 'at', 'reagan', 'high', ',', 'four', 'girls', 'are', 'sitting', 'on', 'top', 'of', 'the', 'world', '.', 'courtney', 'shane', ',', 'played', 'by', 'rose', 'mcgowan', ',', 'holds', 'the', 'title', 'of', 'meanest', ',', 'most', 'disrespectful', 'soul', 'in', 'the', 'school', '.', 'everyone', 'hates', 'her', ',', 'but', 'everyone', 'envies', 'her', 'due', 'to', 'her', 'popularity', '.', 'courtney', 'is', 'the', '\"', 'leader', '\"', 'of', 'her', 'clique', ',', 'which', 'also', 'includes', 'julie', ',', 'played', 'by', 'rebecca', 'gayheart', ',', 'liz', 'purr', ',', 'played', 'by', 'charlotte', 'roldan', ',', 'and', 'marcie', ',', 'played', 'by', 'julie', 'benz', 'are', 'the', 'other', 'three', 'in', 'the', 'group', '.', 'it', 'is', 'liz', \"'\", 's', 'seventeenth', 'birthday', ',', 'and', 'julie', ',', 'courtney', ',', 'and', 'marcie', 'concur', 'that', 'they', 'will', 'play', 'a', 'seemingly', 'innocent', 'prank', 'on', 'her', ',', 'but', 'the', 'prank', 'results', 'in', 'the', 'death', 'of', 'liz', '.', 'just', 'like', 'stupid', 'teens', 'in', 'any', 'teen', 'directed', 'film', 'such', 'as', 'this', 'one', ',', 'the', 'foursome', 'decide', 'to', 'cover', 'up', 'the', 'death', 'to', 'make', 'it', 'look', 'like', 'a', 'murder', 'committed', 'by', 'someone', 'else', '.', 'and', 'also', 'just', 'like', 'in', 'other', 'teen', 'directed', 'movies', ',', 'one', 'of', 'the', 'four', 'don', \"'\", 't', 'agree', 'with', 'hiding', 'it', ',', 'this', 'time', 'that', 'character', 'being', 'julie', '.', 'and', 'finally', ',', 'just', 'like', 'in', 'other', 'teen', 'movies', ',', 'there', 'is', 'a', 'witness', 'outside', 'the', 'group', 'trying', 'to', 'hide', 'the', 'truth', '.', 'this', 'time', 'that', 'character', 'being', 'fern', 'mayo', '(', 'judy', 'greer', ')', ',', 'who', 'is', 'subject', 'to', 'many', 'cracks', 'from', 'courtney', \"'\", 's', 'group', ',', 'as', 'well', 'as', 'the', 'entire', 'school', '.', '>', 'from', 'here', ',', 'jawbreaker', 'turns', 'into', 'a', 'predictable', 'tale', 'of', 'revenge', ',', 'bad', 'morals', ',', 'and', 'at', 'least', 'trying', 'to', 'do', 'the', 'right', 'thing', '.', 'not', 'only', 'is', 'the', 'script', 'weak', ',', 'on', 'a', 'whole', 'the', 'acting', 'is', 'horrid', 'thanks', 'to', 'a', 'large', 'amount', 'of', 'the', 'main', 'cast', '.', 'judy', 'greer', 'is', 'undeniably', 'awful', 'as', 'her', 'one', 'dimensional', ',', 'annoying', 'character', ',', 'as', 'she', 'overacts', 'every', 'line', 'she', 'has', '.', 'also', 'on', 'the', 'bad', 'side', 'of', 'acting', 'is', 'julie', 'benz', ',', 'almost', 'falling', 'to', 'the', 'annoying', 'factor', 'that', 'greer', 'delivers', '.', 'on', 'the', 'positive', 'side', 'of', 'acting', ',', 'rose', 'mcgowan', 'performs', 'well', 'here', ',', 'but', 'doesn', \"'\", 't', 'match', 'her', 'wickedly', 'clever', 'performance', 'as', '\"', 'tatum', '\"', ',', 'in', '1996', \"'\", 's', 'scream', '.', 'mcgowan', \"'\", 's', 'role', 'is', 'annoying', ',', 'but', 'this', 'only', 'adds', 'to', 'the', 'film', '.', 'she', 'is', 'wickedly', 'mean', ',', 'and', 'even', 'though', 'she', 'a', 'well', '-', 'written', 'character', ',', 'you', 'downright', 'hate', 'her', '.', 'faring', 'even', 'better', 'than', 'mcgowan', 'is', 'rebecca', 'gayheart', ',', 'who', 'is', 'always', 'exceptionally', 'believable', 'as', 'her', 'roles', '.', 'when', 'the', 'script', 'feeds', 'her', 'a', 'one', 'or', 'two', 'dimensional', 'character', ',', 'she', 'turns', 'it', 'into', 'three', ',', 'always', 'putting', 'strong', 'emotion', 'and', 'power', 'into', 'her', 'roles', '.', 'gayheart', 'isn', \"'\", 't', 'given', 'as', 'much', 'to', 'do', 'here', 'as', 'she', 'was', 'in', '1998', \"'\", 's', 'urban', 'legend', ',', 'but', 'you', 'can', 'still', 'get', 'a', 'strong', 'taste', 'of', 'her', 'acting', 'skills', 'in', 'jawbreaker', '.', 'jawbreaker', 'drifts', 'and', 'mianders', 'different', 'sub', 'plots', 'throughout', ',', 'hardly', 'throwing', 'anything', 'for', 'the', 'viewer', 'to', 'get', 'absorbed', 'in', '.', 'we', 'get', 'way', 'off', 'of', 'the', 'topic', 'of', 'the', 'jawbreaker', 'incident', ',', 'and', 'get', 'into', 'things', 'that', 'don', \"'\", 't', 'have', 'anything', 'to', 'do', 'with', 'the', 'actual', 'film', '.', 'the', 'beginning', 'and', 'ending', 'are', 'strong', ',', 'it', \"'\", 's', 'just', 'the', 'middle', 'that', 'needs', 'a', 'lot', 'of', 'help', '.', 'during', 'the', 'body', 'of', 'the', 'movie', ',', 'it', 'is', 'undeniably', 'repetitive', ',', 'never', 'progressing', 'towards', 'a', 'conclusion', '.', 'nothing', 'to', 'grab', 'the', 'viewer', \"'\", 's', 'interest', 'is', 'around', ',', 'and', 'the', 'same', ',', 'extremely', 'annoying', 'song', 'plays', 'over', 'and', 'over', 'again', '.', 'jawbreaker', 'tries', 'to', 'get', 'off', 'on', 'the', 'same', 'time', 'of', 'humor', 'used', 'in', 'the', '1995', 'film', 'clueless', ',', 'but', 'falls', 'flat', '.', 'the', 'few', 'gags', 'that', 'actually', 'work', 'die', 'off', 'quickly', 'and', 'die', 'off', 'with', 'a', 'bang', '.', 'all', 'in', 'all', ',', 'a', 'horrible', 'disappointment', '.', 'the', 'bottom', 'line', ':', 'the', 'tagline', 'reads', ',', '\"', 'even', 'the', 'sweetest', 'candies', 'are', 'sour', 'as', 'death', 'inside', '.', '\"', 'yes', ',', 'that', 'is', 'too', 'true', '.', 'no', 'matter', 'how', 'good', 'this', 'film', 'may', 'have', 'looked', ',', 'it', 'fails', 'to', 'deliver', '.'], 'neg')\n"
     ]
    }
   ],
   "source": [
    "\n",
    "\n",
    "documents = [(list(movie_reviews.words(fileid)), category)\n",
    "             for category in movie_reviews.categories()\n",
    "             for fileid in movie_reviews.fileids(category)]\n",
    "\n",
    "random.shuffle(documents)\n",
    "\n",
    "print(documents[1])\n",
    "\n"
   ]
  },
  {
   "cell_type": "code",
   "execution_count": 8,
   "metadata": {},
   "outputs": [
    {
     "name": "stdout",
     "output_type": "stream",
     "text": [
      "[(',', 77717), ('the', 76529), ('.', 65876), ('a', 38106), ('and', 35576), ('of', 34123), ('to', 31937), (\"'\", 30585), ('is', 25195), ('in', 21822), ('s', 18513), ('\"', 17612), ('it', 16107), ('that', 15924), ('-', 15595)]\n",
      "253\n"
     ]
    }
   ],
   "source": [
    "all_words = []\n",
    "for w in movie_reviews.words():\n",
    "    all_words.append(w.lower())\n",
    "\n",
    "all_words = nltk.FreqDist(all_words)\n",
    "print(all_words.most_common(15))\n",
    "print(all_words[\"stupid\"])"
   ]
  },
  {
   "cell_type": "code",
   "execution_count": null,
   "metadata": {},
   "outputs": [],
   "source": []
  }
 ],
 "metadata": {
  "kernelspec": {
   "display_name": "Python 3",
   "language": "python",
   "name": "python3"
  },
  "language_info": {
   "codemirror_mode": {
    "name": "ipython",
    "version": 3
   },
   "file_extension": ".py",
   "mimetype": "text/x-python",
   "name": "python",
   "nbconvert_exporter": "python",
   "pygments_lexer": "ipython3",
   "version": "3.7.3"
  }
 },
 "nbformat": 4,
 "nbformat_minor": 2
}
