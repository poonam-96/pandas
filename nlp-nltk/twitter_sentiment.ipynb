{
 "cells": [
  {
   "cell_type": "code",
   "execution_count": 23,
   "metadata": {},
   "outputs": [],
   "source": [
    "import re \n",
    "import tweepy \n",
    "import nltk\n",
    "from nltk.tokenize import sent_tokenize, word_tokenize\n",
    "from tweepy import OAuthHandler \n",
    "from textblob import TextBlob "
   ]
  },
  {
   "cell_type": "code",
   "execution_count": null,
   "metadata": {},
   "outputs": [],
   "source": []
  },
  {
   "cell_type": "code",
   "execution_count": 14,
   "metadata": {},
   "outputs": [],
   "source": [
    "# keys and tokens from the Twitter Dev Console \n",
    "consumer_key = 'TmM4kWPfDYkx0mozt0kfaezhV'\n",
    "consumer_secret = '9azvdFeIyvy8AMFjMxB7OmRHz20DwiCBgaaA2hGxTG4CAGaINT'\n",
    "access_token = '1132261947955503105-JOAojMM2GiGDlOxP6YlE1Mva80v9dt'\n",
    "access_token_secret = 'ub5uOizJskchxzykxC6piOtsjnWAUkUcFHYizNOSDw8Xb'\n",
    "\n",
    "auth = OAuthHandler(consumer_key, consumer_secret)\n",
    "\n",
    "auth.set_access_token(access_token, access_token_secret) \n",
    "# create tweepy API object to fetch tweets \n",
    "api = tweepy.API(auth) "
   ]
  },
  {
   "cell_type": "code",
   "execution_count": 15,
   "metadata": {},
   "outputs": [],
   "source": [
    "query = 'cybertruck'\n",
    "count = 10"
   ]
  },
  {
   "cell_type": "code",
   "execution_count": 16,
   "metadata": {},
   "outputs": [],
   "source": [
    "fetched_tweets = api.search(q = query, count = count) "
   ]
  },
  {
   "cell_type": "code",
   "execution_count": 25,
   "metadata": {},
   "outputs": [
    {
     "name": "stdout",
     "output_type": "stream",
     "text": [
      "RT @28delayslater: I admit that FSD needs a little work for the #cybertruck \n",
      "\n",
      " https://t.co/GU8ApsjGSu\n",
      "/n\n",
      "RT @28delayslater: I admit that FSD needs a little work for the #cybertruck \n",
      "\n",
      " https://t.co/GU8ApsjGSu\n",
      "/n\n",
      "Ciudad Valles adquiere 15 Cybertruck Tesla como vehículos de patrulla https://t.co/U9FlCsvwRc https://t.co/BNLiEd23Zk\n",
      "/n\n",
      "RT @ricburton: Cybertruck + Grand Theft Auto = 👌\n",
      "https://t.co/sGZXzuUwI4\n",
      "/n\n",
      "RT @Tesmanian_com: Tesla CyberTruck in GTA5 \n",
      "\n",
      "We learned couple things:\n",
      "\n",
      "1. #CyberTrunk is built to last\n",
      "2. FSD is necessary, especially fo…\n",
      "/n\n",
      "Tesla Cybertruck.\n",
      "It goes perfectly with the line's \n",
      "\"Love Me, Hate Me, but You Can't Ignore Me  \"\n",
      "#cybertruck #car… https://t.co/3brln5Tv0J\n",
      "/n\n",
      "RT @therealautoblog: On the latest Autoblog Podcast: Jeep Wrangler EcoDiesel, Porsche Cayenne E-Hybrid and Tesla #Cybertruck: https://t.co/…\n",
      "/n\n",
      "RT @teslamag: #Tesla-Chef #Musk besucht mit Cybertruck Promi-Restaurant bei Los Angeles https://t.co/01Gfee71k4 #Elektroauto\n",
      "/n\n",
      "RT @DavidCMurphy: Tesla CyberTruck spotted in LA (via Reddit). It’s a BIG boy! https://t.co/R0qPd6nEoA\n",
      "/n\n",
      "This week's Clean Energy Review: Electric is best—why the Cybertruck beats the F-150 on performance and pollution,… https://t.co/Rp90wltvm9\n",
      "/n\n"
     ]
    }
   ],
   "source": [
    "for tweet in fetched_tweets:\n",
    "    print(tweet.text)\n",
    "    print('/n')\n",
    "#     break"
   ]
  },
  {
   "cell_type": "code",
   "execution_count": 20,
   "metadata": {},
   "outputs": [],
   "source": [
    "t = tweet.text"
   ]
  },
  {
   "cell_type": "code",
   "execution_count": 24,
   "metadata": {},
   "outputs": [
    {
     "data": {
      "text/plain": [
       "['RT',\n",
       " '@',\n",
       " '28delayslater',\n",
       " ':',\n",
       " 'I',\n",
       " 'admit',\n",
       " 'that',\n",
       " 'FSD',\n",
       " 'needs',\n",
       " 'a',\n",
       " 'little',\n",
       " 'work',\n",
       " 'for',\n",
       " 'the',\n",
       " '#',\n",
       " 'cybertruck',\n",
       " 'https',\n",
       " ':',\n",
       " '//t.co/GU8ApsjGSu']"
      ]
     },
     "execution_count": 24,
     "metadata": {},
     "output_type": "execute_result"
    }
   ],
   "source": [
    "word_tokenize(t)\n"
   ]
  },
  {
   "cell_type": "code",
   "execution_count": null,
   "metadata": {},
   "outputs": [],
   "source": []
  },
  {
   "cell_type": "code",
   "execution_count": null,
   "metadata": {},
   "outputs": [],
   "source": []
  },
  {
   "cell_type": "code",
   "execution_count": null,
   "metadata": {},
   "outputs": [],
   "source": []
  },
  {
   "cell_type": "code",
   "execution_count": null,
   "metadata": {},
   "outputs": [],
   "source": []
  },
  {
   "cell_type": "code",
   "execution_count": null,
   "metadata": {},
   "outputs": [],
   "source": []
  }
 ],
 "metadata": {
  "kernelspec": {
   "display_name": "Python 3",
   "language": "python",
   "name": "python3"
  },
  "language_info": {
   "codemirror_mode": {
    "name": "ipython",
    "version": 3
   },
   "file_extension": ".py",
   "mimetype": "text/x-python",
   "name": "python",
   "nbconvert_exporter": "python",
   "pygments_lexer": "ipython3",
   "version": "3.7.3"
  }
 },
 "nbformat": 4,
 "nbformat_minor": 2
}
