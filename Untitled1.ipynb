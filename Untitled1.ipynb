{
 "cells": [
  {
   "cell_type": "code",
   "execution_count": 29,
   "metadata": {},
   "outputs": [
    {
     "name": "stdout",
     "output_type": "stream",
     "text": [
      "{1: 'a', 2: 'b', 3: 'c'}\n"
     ]
    }
   ],
   "source": [
    "import pickle\n",
    "example_dict = {1:\"a\", 2:\"b\", 3:\"c\"}\n",
    "\n",
    "\n",
    "# pickle_out = open(\"dict\",'wb')\n",
    "# pickle.dump(example_dict, pickle_out)\n",
    "# pickle_out.close()\n",
    "\n",
    "pickle_in = open(\"dict\", 'rb')\n",
    "example_dict = pickle.load(pickle_in)\n",
    "pickle_in.close()\n",
    "print(example_dict)\n"
   ]
  },
  {
   "cell_type": "code",
   "execution_count": 24,
   "metadata": {},
   "outputs": [],
   "source": [
    "dogs_dict = { 'Ozzy': 3, 'Filou': 8, 'Luna': 5, 'Skippy': 10, 'Barco': 12, 'Balou': 9, 'Laika': 16 }\n",
    "filename = 'dogs'\n",
    "outfile = open(filename,'wb')\n",
    "pickle.dump(dogs_dict,outfile)\n",
    "outfile.close()\n",
    "\n",
    "\n",
    "\n",
    "\n",
    "# infile = open(filename,'rb')\n",
    "# new_dict = pickle.load(infile)\n",
    "# infile.close()\n",
    "# print(new_dict)"
   ]
  },
  {
   "cell_type": "code",
   "execution_count": null,
   "metadata": {},
   "outputs": [],
   "source": []
  }
 ],
 "metadata": {
  "kernelspec": {
   "display_name": "Python 3",
   "language": "python",
   "name": "python3"
  },
  "language_info": {
   "codemirror_mode": {
    "name": "ipython",
    "version": 3
   },
   "file_extension": ".py",
   "mimetype": "text/x-python",
   "name": "python",
   "nbconvert_exporter": "python",
   "pygments_lexer": "ipython3",
   "version": "3.7.3"
  }
 },
 "nbformat": 4,
 "nbformat_minor": 2
}
