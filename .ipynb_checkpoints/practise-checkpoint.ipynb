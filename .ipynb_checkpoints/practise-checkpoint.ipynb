{
 "cells": [
  {
   "cell_type": "code",
   "execution_count": 16,
   "metadata": {},
   "outputs": [
    {
     "data": {
      "text/plain": [
       "30"
      ]
     },
     "execution_count": 16,
     "metadata": {},
     "output_type": "execute_result"
    }
   ],
   "source": [
    "a=10\n",
    "b=20\n",
    "c=a+b\n",
    "c"
   ]
  },
  {
   "cell_type": "code",
   "execution_count": 17,
   "metadata": {},
   "outputs": [
    {
     "name": "stdout",
     "output_type": "stream",
     "text": [
      "chanlenge 1:\n",
      "very much\n"
     ]
    }
   ],
   "source": [
    "print(\"chanlenge 1:\")\n",
    "msg =\"tricky\"\n",
    "msg =\"very much\"\n",
    "print(msg)"
   ]
  },
  {
   "cell_type": "code",
   "execution_count": 18,
   "metadata": {},
   "outputs": [
    {
     "name": "stdout",
     "output_type": "stream",
     "text": [
      "2**3= 8\n"
     ]
    }
   ],
   "source": [
    "r=2**3\n",
    "print(\"2**3=\", r)"
   ]
  },
  {
   "cell_type": "code",
   "execution_count": null,
   "metadata": {},
   "outputs": [],
   "source": [
    "###############if statement#################"
   ]
  },
  {
   "cell_type": "code",
   "execution_count": 19,
   "metadata": {},
   "outputs": [
    {
     "name": "stdout",
     "output_type": "stream",
     "text": [
      "what is my fav food?\n",
      "yuck\n",
      "thank you\n"
     ]
    }
   ],
   "source": [
    "v='pizza'\n",
    "a = str(input(\"what is my fav food?\"))\n",
    "if a == v:\n",
    "    \n",
    "    print(\"yep! awesome\")\n",
    "else:\n",
    "    print(\"yuck\")\n",
    "print(\"thank you\")"
   ]
  },
  {
   "cell_type": "code",
   "execution_count": 32,
   "metadata": {},
   "outputs": [
    {
     "name": "stdout",
     "output_type": "stream",
     "text": [
      "x is greater\n"
     ]
    }
   ],
   "source": [
    "def main():\n",
    "    x,y = 100, 100\n",
    "    if(x < y):\n",
    "        st = \"x is lesser than y\"    #if both x and y are equal\n",
    "                                    #it compares x any and the condition fails and hence prits x is greater or else comdition\n",
    "#     elif (x==y):\n",
    "#         st = \"x is equal to y\"\n",
    "    else:\n",
    "        st = \"x is greater\"\n",
    "    print(st)   \n",
    "main()"
   ]
  },
  {
   "cell_type": "code",
   "execution_count": 35,
   "metadata": {},
   "outputs": [
    {
     "name": "stdout",
     "output_type": "stream",
     "text": [
      "x is less than y\n"
     ]
    }
   ],
   "source": [
    "##################conditional statement##################\n",
    "x,y = 100,200\n",
    "st = \"x is less than y\" if (x<y) else \"x is greater then or same as y\"\n",
    "print(st)"
   ]
  },
  {
   "cell_type": "code",
   "execution_count": null,
   "metadata": {},
   "outputs": [],
   "source": []
  },
  {
   "cell_type": "code",
   "execution_count": 21,
   "metadata": {},
   "outputs": [
    {
     "name": "stdout",
     "output_type": "stream",
     "text": [
      "fav?\n"
     ]
    },
    {
     "data": {
      "text/plain": [
       "''"
      ]
     },
     "execution_count": 21,
     "metadata": {},
     "output_type": "execute_result"
    }
   ],
   "source": [
    "def xyz():\n",
    "    food= input(\"fav?\")\n",
    "    return food\n",
    "xyz()\n",
    "\n",
    "    "
   ]
  },
  {
   "cell_type": "code",
   "execution_count": 23,
   "metadata": {},
   "outputs": [
    {
     "name": "stdout",
     "output_type": "stream",
     "text": [
      "one of my fav city is  sendai\n",
      "one of my fav city is  tokyo\n",
      "one of my fav city is  ilana\n"
     ]
    }
   ],
   "source": [
    "###functions\n",
    "def favorite_city(name):\n",
    "    print(\"one of my fav city is \", name)\n",
    "favorite_city(\"sendai\")\n",
    "favorite_city(\"tokyo\")\n",
    "favorite_city(\"ilana\")\n",
    "\n",
    "    "
   ]
  },
  {
   "cell_type": "code",
   "execution_count": 24,
   "metadata": {},
   "outputs": [
    {
     "data": {
      "text/plain": [
       "20"
      ]
     },
     "execution_count": 24,
     "metadata": {},
     "output_type": "execute_result"
    }
   ],
   "source": [
    "#return function:\n",
    "\n",
    "def money(cur, amt):\n",
    "    if(cur>=amt):\n",
    "        cur=cur-amt\n",
    "        return cur\n",
    "        \n",
    "bal=money(100,80)\n",
    "bal\n",
    "# if(bal <= 50):\n",
    "#     print(\"we neeed a deposit\")\n",
    "# else:\n",
    "#     print(\"no\")"
   ]
  },
  {
   "cell_type": "code",
   "execution_count": 25,
   "metadata": {},
   "outputs": [
    {
     "name": "stdout",
     "output_type": "stream",
     "text": [
      "hi\n",
      "hi\n",
      "None\n",
      "<function fun at 0x01301930>\n"
     ]
    }
   ],
   "source": [
    "##functions\n",
    "\n",
    "def fun():\n",
    "    print(\"hi\")\n",
    "fun()\n",
    "print(fun())    #since fun does not return a value, python evaluates the value and print none\n",
    "print(fun)   ###value of fun definiton. fun are obj "
   ]
  },
  {
   "cell_type": "code",
   "execution_count": 26,
   "metadata": {},
   "outputs": [
    {
     "name": "stdout",
     "output_type": "stream",
     "text": [
      "10   20\n",
      "20   5\n",
      "None\n",
      "8\n",
      "2\n",
      "8\n",
      "29\n"
     ]
    }
   ],
   "source": [
    "def a():\n",
    "    print(\"a\")\n",
    "def b(arg1, arg2):\n",
    "    print(arg1, \" \", arg2)\n",
    "def cube(x):\n",
    "    return x*x*x\n",
    "def pow(num, x=1):\n",
    "    result=1\n",
    "    for i in range(x):\n",
    "        result = result * num\n",
    "    return result    \n",
    "def mul(*args):\n",
    "    res=0\n",
    "    for x in args:\n",
    "        res=res+x\n",
    "    return res\n",
    "\n",
    "b(10,20)\n",
    "print(b(20,5))\n",
    "print(cube(2))\n",
    "print(pow(2))\n",
    "print(pow(2,3))\n",
    "print(mul(10,10,2,3,4))"
   ]
  },
  {
   "cell_type": "code",
   "execution_count": 27,
   "metadata": {},
   "outputs": [
    {
     "name": "stdout",
     "output_type": "stream",
     "text": [
      "hi\n",
      "0\n",
      "hi\n",
      "hi\n"
     ]
    }
   ],
   "source": [
    "#global vs local variables\n",
    "f=0\n",
    "def fun1():\n",
    "    f=\"hi\"\n",
    "    print(f)\n",
    "fun1()\n",
    "print(f)\n",
    "\n",
    "\n",
    "f=0\n",
    "def fun1():\n",
    "    global f\n",
    "    f=\"hi\"\n",
    "    print(f)\n",
    "fun1()\n",
    "print(f)\n"
   ]
  },
  {
   "cell_type": "code",
   "execution_count": null,
   "metadata": {},
   "outputs": [],
   "source": []
  },
  {
   "cell_type": "code",
   "execution_count": null,
   "metadata": {},
   "outputs": [],
   "source": []
  },
  {
   "cell_type": "code",
   "execution_count": null,
   "metadata": {},
   "outputs": [],
   "source": []
  },
  {
   "cell_type": "code",
   "execution_count": null,
   "metadata": {},
   "outputs": [],
   "source": []
  },
  {
   "cell_type": "code",
   "execution_count": null,
   "metadata": {},
   "outputs": [],
   "source": []
  },
  {
   "cell_type": "code",
   "execution_count": 5,
   "metadata": {},
   "outputs": [
    {
     "name": "stdout",
     "output_type": "stream",
     "text": [
      "enter a   2\n",
      "enter b   5\n"
     ]
    },
    {
     "data": {
      "text/plain": [
       "7"
      ]
     },
     "execution_count": 5,
     "metadata": {},
     "output_type": "execute_result"
    }
   ],
   "source": [
    "n=input(\"enter a\")\n",
    "m=input(\"enter b\")\n",
    "c=int(n)+int(m)\n",
    "c"
   ]
  },
  {
   "cell_type": "code",
   "execution_count": 135,
   "metadata": {},
   "outputs": [
    {
     "name": "stdout",
     "output_type": "stream",
     "text": [
      "13\n"
     ]
    }
   ],
   "source": [
    "def fibo(n):\n",
    "    if n<0:\n",
    "        print(\"incorrect\")\n",
    "    elif n==1:\n",
    "        return 0\n",
    "    elif n==2:\n",
    "        return 1\n",
    "    else:\n",
    "        return fibo(n-1)+fibo(n-2)\n",
    "print(fibo(8))\n",
    "\n",
    "        \n",
    "        "
   ]
  },
  {
   "cell_type": "code",
   "execution_count": 22,
   "metadata": {},
   "outputs": [
    {
     "name": "stdout",
     "output_type": "stream",
     "text": [
      "start2\n",
      "end30\n",
      "2 4 6 8 10 12 14 16 18 20 22 24 26 28 30 "
     ]
    }
   ],
   "source": [
    "start=int(input(\"start\"))\n",
    "end=int(input(\"end\"))\n",
    "for n in range(start, end+1):\n",
    "    if n%2==0:\n",
    "        print(n, end=\" \")\n",
    "        "
   ]
  },
  {
   "cell_type": "code",
   "execution_count": 23,
   "metadata": {},
   "outputs": [
    {
     "name": "stdout",
     "output_type": "stream",
     "text": [
      "start1\n",
      "end10\n",
      "1 3 5 7 9 "
     ]
    }
   ],
   "source": [
    "start=int(input(\"start\"))\n",
    "end=int(input(\"end\"))\n",
    "for n in range(start, end+1):\n",
    "    if n%2!=0:\n",
    "        print(n, end=\" \")"
   ]
  },
  {
   "cell_type": "code",
   "execution_count": 29,
   "metadata": {},
   "outputs": [
    {
     "name": "stdout",
     "output_type": "stream",
     "text": [
      "6\n"
     ]
    }
   ],
   "source": [
    "a=12\n",
    "b=24\n",
    "n=0\n",
    "for i in range(1, min(a,b)+1):\n",
    "    if a%i==b%i==0:   \n",
    "        n+=1\n",
    "print(n)"
   ]
  },
  {
   "cell_type": "code",
   "execution_count": 36,
   "metadata": {},
   "outputs": [
    {
     "name": "stdout",
     "output_type": "stream",
     "text": [
      "sum is 24\n"
     ]
    }
   ],
   "source": [
    "############sum of an array############\n",
    "def _sum(array,n):\n",
    "    return(sum(arr))\n",
    "arr=[]\n",
    "arr=[10,2,5,7]\n",
    "n=len(arr)\n",
    "ans= _sum(arr,n)\n",
    "print(\"sum is\" , ans )"
   ]
  },
  {
   "cell_type": "code",
   "execution_count": 7,
   "metadata": {},
   "outputs": [
    {
     "name": "stdout",
     "output_type": "stream",
     "text": [
      "the factorial is 24\n"
     ]
    }
   ],
   "source": [
    "#############factorial###############3\n",
    "def _factorial(n):\n",
    "    return 1 if(n==1 or n==0) else n*_factorial(n-1);\n",
    "    \n",
    "n=4\n",
    "print(\"the factorial is\", _factorial(n))\n"
   ]
  },
  {
   "cell_type": "code",
   "execution_count": 13,
   "metadata": {},
   "outputs": [
    {
     "name": "stdout",
     "output_type": "stream",
     "text": [
      "yes\n"
     ]
    }
   ],
   "source": [
    "################palindrome#############3\n",
    "def reverse(s):\n",
    "    return s[::-1]\n",
    "def ispalindrome(s):\n",
    "    rev=reverse(s)\n",
    "    if(s==rev):\n",
    "        return True\n",
    "    return False\n",
    "s=\"malayalam\"\n",
    "a=ispalindrome(s)\n",
    "if a==1:\n",
    "    print(\"yes\")\n",
    "else:\n",
    "    print(\"no\")"
   ]
  },
  {
   "cell_type": "code",
   "execution_count": 108,
   "metadata": {},
   "outputs": [
    {
     "name": "stdout",
     "output_type": "stream",
     "text": [
      "yes\n"
     ]
    }
   ],
   "source": [
    "x=\"malayalam\"\n",
    "p=\"\"\n",
    "for i in x:\n",
    "    p=i+p\n",
    "    if(x==p):\n",
    "        print(\"yes\")\n",
    "        break\n",
    "else:\n",
    "    print(\"no\")\n",
    "        "
   ]
  },
  {
   "cell_type": "code",
   "execution_count": 28,
   "metadata": {},
   "outputs": [
    {
     "name": "stdout",
     "output_type": "stream",
     "text": [
      "no\n"
     ]
    }
   ],
   "source": [
    "def isplain(str):\n",
    "    for i in range(0, len(str)):\n",
    "        if str[i]!=str[len(str)-i-1]:\n",
    "            return False\n",
    "    return True\n",
    "str=\"moma\"\n",
    "a=isplain(str)\n",
    "if(a):\n",
    "    print(\"yes\")\n",
    "else:\n",
    "    print(\"no\")"
   ]
  },
  {
   "cell_type": "code",
   "execution_count": 67,
   "metadata": {},
   "outputs": [
    {
     "data": {
      "text/plain": [
       "19"
      ]
     },
     "execution_count": 67,
     "metadata": {},
     "output_type": "execute_result"
    }
   ],
   "source": [
    "var=\"poonam singh neghi \"\n",
    "len(var)"
   ]
  },
  {
   "cell_type": "code",
   "execution_count": 68,
   "metadata": {},
   "outputs": [
    {
     "data": {
      "text/plain": [
       "'POONAM SINGH NEGHI '"
      ]
     },
     "execution_count": 68,
     "metadata": {},
     "output_type": "execute_result"
    }
   ],
   "source": [
    "var.upper()"
   ]
  },
  {
   "cell_type": "code",
   "execution_count": 69,
   "metadata": {},
   "outputs": [
    {
     "data": {
      "text/plain": [
       "'poonam singh neghi '"
      ]
     },
     "execution_count": 69,
     "metadata": {},
     "output_type": "execute_result"
    }
   ],
   "source": [
    "var.lower()"
   ]
  },
  {
   "cell_type": "code",
   "execution_count": 70,
   "metadata": {},
   "outputs": [
    {
     "data": {
      "text/plain": [
       "'poonam singh neghi'"
      ]
     },
     "execution_count": 70,
     "metadata": {},
     "output_type": "execute_result"
    }
   ],
   "source": [
    "var.rstrip()"
   ]
  },
  {
   "cell_type": "code",
   "execution_count": 71,
   "metadata": {},
   "outputs": [
    {
     "data": {
      "text/plain": [
       "8"
      ]
     },
     "execution_count": 71,
     "metadata": {},
     "output_type": "execute_result"
    }
   ],
   "source": [
    "var.index(\"i\")"
   ]
  },
  {
   "cell_type": "code",
   "execution_count": 72,
   "metadata": {},
   "outputs": [
    {
     "data": {
      "text/plain": [
       "' he gi aop'"
      ]
     },
     "execution_count": 72,
     "metadata": {},
     "output_type": "execute_result"
    }
   ],
   "source": [
    "var[::-2]"
   ]
  },
  {
   "cell_type": "code",
   "execution_count": 75,
   "metadata": {},
   "outputs": [
    {
     "data": {
      "text/plain": [
       "'oo'"
      ]
     },
     "execution_count": 75,
     "metadata": {},
     "output_type": "execute_result"
    }
   ],
   "source": [
    "var[1:3]"
   ]
  },
  {
   "cell_type": "code",
   "execution_count": 85,
   "metadata": {},
   "outputs": [
    {
     "data": {
      "text/plain": [
       "'ignh'"
      ]
     },
     "execution_count": 85,
     "metadata": {},
     "output_type": "execute_result"
    }
   ],
   "source": [
    "var[-2:-9:-2]\n",
    "   "
   ]
  },
  {
   "cell_type": "code",
   "execution_count": null,
   "metadata": {},
   "outputs": [],
   "source": [
    "#prime"
   ]
  },
  {
   "cell_type": "code",
   "execution_count": 95,
   "metadata": {},
   "outputs": [
    {
     "name": "stdout",
     "output_type": "stream",
     "text": [
      "1\n",
      "2\n",
      "3\n",
      "4\n",
      "5\n",
      "6\n",
      "7\n",
      "8\n",
      "9\n",
      "1\n"
     ]
    }
   ],
   "source": [
    "count=0\n",
    "for i in range(1,10):\n",
    "    print(i)\n",
    "    count=+1\n",
    "    if count==5:\n",
    "        break\n",
    "print(count)\n"
   ]
  },
  {
   "cell_type": "code",
   "execution_count": 106,
   "metadata": {},
   "outputs": [
    {
     "name": "stdout",
     "output_type": "stream",
     "text": [
      "7 is a prime num\n"
     ]
    }
   ],
   "source": [
    "n=7\n",
    "if n>1:\n",
    "    \n",
    "    for i in range(2, n):\n",
    "        if(n % i == 0):\n",
    "            print(n,\"is a not a prime\")\n",
    "            break\n",
    "    else:\n",
    "        print(n,\"is a prime num\")\n",
    "        \n",
    "else:\n",
    "    print(n,\"is not prime\")\n"
   ]
  },
  {
   "cell_type": "code",
   "execution_count": 111,
   "metadata": {},
   "outputs": [
    {
     "name": "stdout",
     "output_type": "stream",
     "text": [
      "11\n",
      "13\n",
      "17\n",
      "19\n",
      "23\n",
      "29\n",
      "31\n",
      "37\n",
      "41\n",
      "43\n",
      "47\n"
     ]
    }
   ],
   "source": [
    "l=10\n",
    "h=50\n",
    "for n in range(l,h+1):\n",
    "    if(n>1):\n",
    "        for i in range(2,n):\n",
    "            if(n%i==0):\n",
    "                break\n",
    "        else:\n",
    "            print(n)\n",
    "                \n",
    "                \n",
    "                \n",
    "        "
   ]
  },
  {
   "cell_type": "code",
   "execution_count": null,
   "metadata": {},
   "outputs": [],
   "source": [
    "#fibonacci"
   ]
  },
  {
   "cell_type": "code",
   "execution_count": 117,
   "metadata": {},
   "outputs": [
    {
     "data": {
      "text/plain": [
       "21"
      ]
     },
     "execution_count": 117,
     "metadata": {},
     "output_type": "execute_result"
    }
   ],
   "source": [
    "def fibo(n):\n",
    "    a=0\n",
    "    b=1\n",
    "    if n<0:\n",
    "        print(\"incorrect\")\n",
    "    elif n==0:\n",
    "        return a\n",
    "    elif n==1:\n",
    "        return b\n",
    "    else:\n",
    "        for i in range(2,n):\n",
    "            \n",
    "            c=a+b\n",
    "            a=b\n",
    "            b=c\n",
    "        return b\n",
    "       \n",
    "fibo(9)\n",
    "    "
   ]
  },
  {
   "cell_type": "code",
   "execution_count": 123,
   "metadata": {},
   "outputs": [
    {
     "data": {
      "text/plain": [
       "3"
      ]
     },
     "execution_count": 123,
     "metadata": {},
     "output_type": "execute_result"
    }
   ],
   "source": [
    "def fib(n):\n",
    "    if n<0:\n",
    "        print(\"incorrect\")\n",
    "    elif n==1:\n",
    "        return 0\n",
    "    elif n==2:\n",
    "        return 1\n",
    "    else:\n",
    "        return fib(n-1)+fib(n-2)\n",
    "fib(5)"
   ]
  },
  {
   "cell_type": "code",
   "execution_count": 131,
   "metadata": {},
   "outputs": [
    {
     "name": "stdout",
     "output_type": "stream",
     "text": [
      "1 1 2 3 5 8 13 21 None\n"
     ]
    }
   ],
   "source": [
    "def fibo(n):\n",
    "    f1=0\n",
    "    f2=1\n",
    "    if n<0:\n",
    "        print(\"incoorect input\")\n",
    "    elif n>0:\n",
    "        for x in range(1, n): \n",
    "            print(f2 , end = \" \") \n",
    "            next = f1 + f2 \n",
    "            f1 = f2 \n",
    "            f2 = next\n",
    "print(fibo(9))\n",
    "        "
   ]
  },
  {
   "cell_type": "code",
   "execution_count": null,
   "metadata": {},
   "outputs": [],
   "source": [
    "#list"
   ]
  },
  {
   "cell_type": "code",
   "execution_count": 138,
   "metadata": {},
   "outputs": [
    {
     "data": {
      "text/plain": [
       "[1, 3, 10, ['geeks', 'for', 'geeks']]"
      ]
     },
     "execution_count": 138,
     "metadata": {},
     "output_type": "execute_result"
    }
   ],
   "source": [
    "list=[]\n",
    "list\n",
    "list.append(1)\n",
    "list.append(3)\n",
    "list\n",
    "list.append((5,9))\n",
    "list\n",
    "list2=[\"geeks\", \"for\", \"geeks\"]\n",
    "list.append(list2)\n",
    "list\n",
    "list[2]=10\n",
    "list"
   ]
  },
  {
   "cell_type": "code",
   "execution_count": 164,
   "metadata": {},
   "outputs": [
    {
     "name": "stdout",
     "output_type": "stream",
     "text": [
      "[15, 14, 13, 12, 11, 10]\n"
     ]
    }
   ],
   "source": [
    "#reverse a list without uisng slicing\n",
    "def reverse(lst):\n",
    "    lst.reverse()\n",
    "    return lst\n",
    "lst=[1,3,5,7,4]\n",
    "reverse(lst)\n",
    "\n",
    "\n",
    "def Reverse(lst): \n",
    "    return [e for e in reversed(lst)] \n",
    "      \n",
    "# Driver Code \n",
    "lst = [10, 11, 12, 13, 14, 15] \n",
    "print(Reverse(lst)) "
   ]
  },
  {
   "cell_type": "code",
   "execution_count": 139,
   "metadata": {},
   "outputs": [],
   "source": [
    "#dictonary\n"
   ]
  },
  {
   "cell_type": "code",
   "execution_count": 144,
   "metadata": {},
   "outputs": [
    {
     "data": {
      "text/plain": [
       "{1: 'geeks', 2: 'for', 3: 'geeks', 4: {'a': 'A', 'b': 'B'}}"
      ]
     },
     "execution_count": 144,
     "metadata": {},
     "output_type": "execute_result"
    }
   ],
   "source": [
    "Dict={1:'geeks', 2: 'for', 3:'geeks', 4:{'a':'A', 'b':'B'}}\n",
    "Dict"
   ]
  },
  {
   "cell_type": "code",
   "execution_count": 145,
   "metadata": {},
   "outputs": [],
   "source": [
    "Dict = {1: 'Geeks', 2: 'For',  \n",
    "        3:{'A' : 'Welcome', 'B' : 'To', 'C' : 'Geeks'}} "
   ]
  },
  {
   "cell_type": "code",
   "execution_count": 147,
   "metadata": {},
   "outputs": [
    {
     "data": {
      "text/plain": [
       "{0: 'xyz', 2: 'cbn'}"
      ]
     },
     "execution_count": 147,
     "metadata": {},
     "output_type": "execute_result"
    }
   ],
   "source": [
    "d={}\n",
    "d[0]='abc'\n",
    "d[2]='cbn'\n",
    "d\n",
    "d[0]='xyz'\n",
    "d"
   ]
  },
  {
   "cell_type": "code",
   "execution_count": 156,
   "metadata": {
    "scrolled": true
   },
   "outputs": [
    {
     "data": {
      "text/plain": [
       "{1: 'Geeks',\n",
       " 2: 'For',\n",
       " 3: {'A': 'Welcome', 'B': 'To', 'C': 'Geeks'},\n",
       " 'Value_set': (2, 3, 4),\n",
       " 'value_set': (1, 2, 3)}"
      ]
     },
     "execution_count": 156,
     "metadata": {},
     "output_type": "execute_result"
    }
   ],
   "source": [
    "Dict['value_set']=1,2,3\n",
    "Dict"
   ]
  },
  {
   "cell_type": "code",
   "execution_count": 154,
   "metadata": {},
   "outputs": [
    {
     "name": "stdout",
     "output_type": "stream",
     "text": [
      "{1: 'Geeks', 2: 'For', 3: {'A': 'Welcome', 'B': 'To', 'C': 'Geeks'}, 'Value_set': (2, 3, 4), 'value_set': (1, 2, 3)}\n"
     ]
    }
   ],
   "source": [
    "Dict['Value_set'] = 2, 3, 4\n",
    "print(Dict) "
   ]
  },
  {
   "cell_type": "code",
   "execution_count": 157,
   "metadata": {},
   "outputs": [
    {
     "data": {
      "text/plain": [
       "'Geeks'"
      ]
     },
     "execution_count": 157,
     "metadata": {},
     "output_type": "execute_result"
    }
   ],
   "source": [
    "Dict.get(1)"
   ]
  },
  {
   "cell_type": "code",
   "execution_count": 168,
   "metadata": {},
   "outputs": [
    {
     "data": {
      "text/plain": [
       "['apple', 'banana', 'vege']"
      ]
     },
     "execution_count": 168,
     "metadata": {},
     "output_type": "execute_result"
    }
   ],
   "source": [
    "#sort vs sorted sunction\n",
    "\n",
    "\n",
    "vegetables = ['squash', 'pea', 'carrot', 'potato']\n",
    "vegetables.sort()\n",
    "vegetables\n",
    "list=['apple', 'vege','banana']\n",
    "new=sorted(list)\n",
    "new"
   ]
  },
  {
   "cell_type": "code",
   "execution_count": 158,
   "metadata": {},
   "outputs": [
    {
     "name": "stdout",
     "output_type": "stream",
     "text": [
      "(('geek',),)\n",
      "((('geek',),),)\n",
      "(((('geek',),),),)\n",
      "((((('geek',),),),),)\n",
      "(((((('geek',),),),),),)\n"
     ]
    }
   ],
   "source": [
    "\n",
    "tup = ('geek',) \n",
    "n = 5  #Number of time loop runs \n",
    "for i in range(int(n)): \n",
    "    tup = (tup,) \n",
    "    print(tup) "
   ]
  },
  {
   "cell_type": "code",
   "execution_count": 187,
   "metadata": {},
   "outputs": [
    {
     "name": "stdout",
     "output_type": "stream",
     "text": [
      "4\n",
      "3\n"
     ]
    }
   ],
   "source": [
    "\n",
    "#count the even and odd in list\n",
    "\n",
    "\n",
    "a=[10,20,3,5,6,8,9]\n",
    "def num(a):\n",
    "    ec=0\n",
    "    oc=0\n",
    "    for i in a:\n",
    "        if i%2==0:\n",
    "          \n",
    "            ec=ec+1\n",
    "            \n",
    "        \n",
    "        else:\n",
    "            oc=oc+1\n",
    "            \n",
    "    print(ec)\n",
    "    print(oc)\n",
    "num(a)\n",
    "    \n",
    "     "
   ]
  },
  {
   "cell_type": "code",
   "execution_count": 190,
   "metadata": {},
   "outputs": [
    {
     "name": "stdout",
     "output_type": "stream",
     "text": [
      "even [4, 8]\n"
     ]
    }
   ],
   "source": [
    "#print even using lamda\n",
    "\n",
    "list=[3,4,5,8,7]\n",
    "even=[i for i in list if i%2==0]\n",
    "print(\"even\", even)\n"
   ]
  },
  {
   "cell_type": "code",
   "execution_count": 36,
   "metadata": {},
   "outputs": [
    {
     "name": "stdout",
     "output_type": "stream",
     "text": [
      "1634 is not an Armstrong number\n",
      "1634 is not an Armstrong number\n",
      "1634 is not an Armstrong number\n",
      "1634 is an Armstrong number\n"
     ]
    }
   ],
   "source": [
    "#armstrom\n",
    "\n",
    "\n",
    "#Program to check Armstrong number of n digits\n",
    "num = 1634\n",
    "# Changed num variable to string,\n",
    "# and calculated the length (number of digits)\n",
    "order = len(str(num))\n",
    "# initialize sum\n",
    "sum = 0\n",
    "# find the sum of the cube of each digit\n",
    "temp = num\n",
    "while temp > 0:\n",
    "    digit = temp % 10\n",
    "    sum += digit ** order\n",
    "    temp //= 10\n",
    "    temp\n",
    "    # display the result\n",
    "    if num == sum:\n",
    "        print(num,\"is an Armstrong number\")\n",
    "    else:\n",
    "        print(num,\"is not an Armstrong number\")"
   ]
  },
  {
   "cell_type": "code",
   "execution_count": null,
   "metadata": {},
   "outputs": [],
   "source": []
  },
  {
   "cell_type": "code",
   "execution_count": null,
   "metadata": {},
   "outputs": [],
   "source": []
  },
  {
   "cell_type": "code",
   "execution_count": null,
   "metadata": {},
   "outputs": [],
   "source": []
  },
  {
   "cell_type": "code",
   "execution_count": null,
   "metadata": {},
   "outputs": [],
   "source": []
  },
  {
   "cell_type": "code",
   "execution_count": null,
   "metadata": {},
   "outputs": [],
   "source": []
  },
  {
   "cell_type": "code",
   "execution_count": 197,
   "metadata": {},
   "outputs": [],
   "source": [
    "###############oops concept#####################"
   ]
  },
  {
   "cell_type": "code",
   "execution_count": 199,
   "metadata": {},
   "outputs": [
    {
     "name": "stdout",
     "output_type": "stream",
     "text": [
      "hello\n"
     ]
    }
   ],
   "source": [
    "class Test:\n",
    "    def test1(self):\n",
    "        print(\"hello\")\n",
    "obj=Test()\n",
    "obj.test1()"
   ]
  },
  {
   "cell_type": "code",
   "execution_count": 208,
   "metadata": {},
   "outputs": [
    {
     "name": "stdout",
     "output_type": "stream",
     "text": [
      "name is poonam\n"
     ]
    }
   ],
   "source": [
    "class Person:\n",
    "    def __init__(self, name):\n",
    "        self.name=name\n",
    "    def hi(self):\n",
    "        print(\"name is\", self.name)\n",
    "p=Person('poonam')\n",
    "p.hi()\n",
    "        "
   ]
  },
  {
   "cell_type": "code",
   "execution_count": 209,
   "metadata": {},
   "outputs": [
    {
     "name": "stdout",
     "output_type": "stream",
     "text": [
      "age is 25\n"
     ]
    }
   ],
   "source": [
    "class Demo:\n",
    "    def __init__(self,age):\n",
    "        self.age=age\n",
    "    def hello(self):\n",
    "        print(\"age is\",self.age)\n",
    "q=Demo('25')\n",
    "q.hello()"
   ]
  },
  {
   "cell_type": "code",
   "execution_count": 12,
   "metadata": {},
   "outputs": [
    {
     "name": "stdout",
     "output_type": "stream",
     "text": [
      "cse\n",
      "104\n",
      "cse\n",
      "noida,hhh\n"
     ]
    }
   ],
   "source": [
    "class Second:\n",
    "    stream='cse'\n",
    "    def __init__(self,roll):\n",
    "        self.roll=roll\n",
    "        \n",
    "    def setadd(self,address):\n",
    "        self.address=address\n",
    "    def getadd(self):\n",
    "        return self.address\n",
    "    \n",
    "a=Second(101)\n",
    "b=Second(104)\n",
    "a.setadd(\"noida,hhh\")\n",
    "print(a.stream)\n",
    "print(b.roll)\n",
    "print(Second.stream)\n",
    "print(a.getadd())"
   ]
  },
  {
   "cell_type": "code",
   "execution_count": 11,
   "metadata": {},
   "outputs": [
    {
     "name": "stdout",
     "output_type": "stream",
     "text": [
      "blu  sings happy\n",
      "blu dance\n"
     ]
    }
   ],
   "source": [
    "class Parrot:\n",
    "    def __init__(self,name,age):\n",
    "        self.name=name\n",
    "        self.age=age\n",
    "    def sing(self,song):\n",
    "        return \"{}  sings {}\" .format(self.name,song)\n",
    "    def dance(self):\n",
    "        return \"{} dance\" .format(self.name)\n",
    "b=Parrot(\"blu\",10)\n",
    "print(b.sing(\"happy\"))\n",
    "print(b.dance())"
   ]
  },
  {
   "cell_type": "code",
   "execution_count": 45,
   "metadata": {},
   "outputs": [
    {
     "name": "stdout",
     "output_type": "stream",
     "text": [
      "myclass method\n",
      "myclass ethod2this is a string\n",
      "myclass method\n",
      "another method\n",
      "another method2\n"
     ]
    }
   ],
   "source": [
    "##############inherit class###############\n",
    "class myClass():\n",
    "    def method1(self):\n",
    "        print(\"myclass method\")\n",
    "       \n",
    "    def method2(self, someString):\n",
    "        print(\"myclass ethod2\" + someString)\n",
    "class anotherClass():\n",
    "    def method1(self):\n",
    "        myClass.method1(self)\n",
    "        print(\"another method\")\n",
    "       \n",
    "    def method2(self, someString):\n",
    "        print(\"another method2\" )    \n",
    "def main():\n",
    "    c=myClass()\n",
    "    c.method1()\n",
    "    c.method2(\"this is a string\")\n",
    "    \n",
    "    c2=anotherClass()\n",
    "    c2.method1()\n",
    "    c2.method2(\"string\")\n",
    "    \n",
    "    \n",
    "\n",
    "if __name__==\"__main__\":\n",
    "    main()"
   ]
  },
  {
   "cell_type": "code",
   "execution_count": 38,
   "metadata": {},
   "outputs": [
    {
     "name": "stdout",
     "output_type": "stream",
     "text": [
      "bird is ready m1\n",
      "penguin is ready m2\n",
      "bird swim m1\n",
      "run m2\n"
     ]
    }
   ],
   "source": [
    "#####inheritance\n",
    "class Birds:\n",
    "    def __init__(self):\n",
    "        print(\"bird is ready m1\")\n",
    "    def who(self):\n",
    "        print(\"bird fly m1\")\n",
    "    def swim(self):\n",
    "        print(\"bird swim m1\")\n",
    "class Penguin(Birds):\n",
    "    def __init__(self):\n",
    "        super().__init__()\n",
    "        print(\"penguin is ready m2\")\n",
    "    def who(self):\n",
    "        print(\"legs m2\")\n",
    "    def run(self):\n",
    "        print(\"run m2\")\n",
    "peggy=Penguin()\n",
    "#peggy.who()\n",
    "peggy.swim()\n",
    "peggy.run()\n",
    "\n"
   ]
  },
  {
   "cell_type": "code",
   "execution_count": null,
   "metadata": {},
   "outputs": [],
   "source": []
  },
  {
   "cell_type": "code",
   "execution_count": null,
   "metadata": {},
   "outputs": [],
   "source": []
  }
 ],
 "metadata": {
  "kernelspec": {
   "display_name": "Python 3",
   "language": "python",
   "name": "python3"
  },
  "language_info": {
   "codemirror_mode": {
    "name": "ipython",
    "version": 3
   },
   "file_extension": ".py",
   "mimetype": "text/x-python",
   "name": "python",
   "nbconvert_exporter": "python",
   "pygments_lexer": "ipython3",
   "version": "3.7.3"
  }
 },
 "nbformat": 4,
 "nbformat_minor": 2
}
