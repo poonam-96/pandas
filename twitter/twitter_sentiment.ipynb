{
 "cells": [
  {
   "cell_type": "code",
   "execution_count": 157,
   "metadata": {},
   "outputs": [
    {
     "name": "stdout",
     "output_type": "stream",
     "text": [
      "Positive tweets percentage: 5.681818181818182 %\n",
      "negative tweets percentage: 11.363636363636363 %\n",
      "\n",
      "\n",
      "Positive tweets:\n",
      "RT @binance: Happy Holidays! #Binance &amp; @troytrade Bring You a Merry Christmas With a @Tesla #Cybertruck and $50,000 in $TROY Tokens to Giv…\n",
      "RT @SaintHoax: New year, same old fragile me\n",
      "@elonmusk #Cybertruck https://t.co/7HGssRg2EH\n",
      "RT @binance: Happy Holidays! #Binance &amp; @troytrade Bring You a Merry Christmas With a @Tesla #Cybertruck and $50,000 in $TROY Tokens to Giv…\n",
      "RT @WealthyTools: Elon Musk launched Tesla's Cybertruck. You shared it\n",
      "Beyonce was pregnant with twins. You shared it\n",
      "Cardi b &amp; Nicki drama…\n",
      "RT @News24: WATCH: Hey Elon, have you seen this? A petrolhead made an exact replica of Tesla's Cybertruck and its hilarious | @Wheels24 \n",
      "\n",
      "h…\n",
      "\n",
      "\n",
      "Positive tweets:\n",
      "RT @its1833: i can't wait to turn 16, buy a cybertruck with ethereum i earned juuging ket on the dark web, and just leave this two bitcoin…\n",
      "RT @its1833: i can't wait to turn 16, buy a cybertruck with ethereum i earned juuging ket on the dark web, and just leave this two bitcoin…\n",
      "RT @its1833: i can't wait to turn 16, buy a cybertruck with ethereum i earned juuging ket on the dark web, and just leave this two bitcoin…\n",
      "RT @its1833: i can't wait to turn 16, buy a cybertruck with ethereum i earned juuging ket on the dark web, and just leave this two bitcoin…\n",
      "RT @its1833: i can't wait to turn 16, buy a cybertruck with ethereum i earned juuging ket on the dark web, and just leave this two bitcoin…\n",
      "RT @its1833: i can't wait to turn 16, buy a cybertruck with ethereum i earned juuging ket on the dark web, and just leave this two bitcoin…\n",
      "RT @its1833: i can't wait to turn 16, buy a cybertruck with ethereum i earned juuging ket on the dark web, and just leave this two bitcoin…\n",
      "RT @its1833: i can't wait to turn 16, buy a cybertruck with ethereum i earned juuging ket on the dark web, and just leave this two bitcoin…\n",
      "RT @its1833: i can't wait to turn 16, buy a cybertruck with ethereum i earned juuging ket on the dark web, and just leave this two bitcoin…\n",
      "RT @its1833: i can't wait to turn 16, buy a cybertruck with ethereum i earned juuging ket on the dark web, and just leave this two bitcoin…\n"
     ]
    }
   ],
   "source": [
    "import re \n",
    "import tweepy \n",
    "import nltk\n",
    "from nltk.tokenize import sent_tokenize, word_tokenize\n",
    "from tweepy import OAuthHandler \n",
    "from textblob import TextBlob\n",
    "\n",
    "class TwitterClient(object): \n",
    "# keys and tokens from the Twitter Dev Console \n",
    "    def __init__(self): \n",
    "        consumer_key = 'TmM4kWPfDYkx0mozt0kfaezhV'\n",
    "        consumer_secret = '9azvdFeIyvy8AMFjMxB7OmRHz20DwiCBgaaA2hGxTG4CAGaINT'\n",
    "        access_token = '1132261947955503105-JOAojMM2GiGDlOxP6YlE1Mva80v9dt'\n",
    "        access_token_secret = 'ub5uOizJskchxzykxC6piOtsjnWAUkUcFHYizNOSDw8Xb'\n",
    "\n",
    "        self.auth = OAuthHandler(consumer_key, consumer_secret)\n",
    "\n",
    "        self.auth.set_access_token(access_token, access_token_secret) \n",
    "# create tweepy API object to fetch tweets \n",
    "        self.api = tweepy.API(self.auth) \n",
    "\n",
    "\n",
    "    def clean_tweet(self, tweet):\n",
    "# ''' Utility function to clean tweet text by removing links, special characters '''\n",
    "        return ' '.join(re.sub(\"(@[A-Za-z0-9]+)|([^0-9A-Za-z \\t])|(\\w+:\\/\\/\\S+)\", \" \", tweet).split())\n",
    "\n",
    "\n",
    "    def get_tweet_sentiment(self, tweet): \n",
    "#  Utility function to classify sentiment of passed tweet using textblob's sentiment method '''\n",
    "# create TextBlob object of passed tweet text \n",
    "        analysis = TextBlob(self.clean_tweet(tweet)) \n",
    "# set sentiment \n",
    "        if analysis.sentiment.polarity > 0: \n",
    "            return 'positive'\n",
    "        elif analysis.sentiment.polarity == 0: \n",
    "            return 'neutral'\n",
    "        else: \n",
    "            return 'negative'\n",
    "\n",
    "\n",
    "    \n",
    "\n",
    "    def get_tweets(self, query, count = 10 ):\n",
    "        tweets = []\n",
    "        \n",
    "        fetched_tweets = self.api.search(q = query, count = count) \n",
    "       \n",
    "        for tweet in fetched_tweets: \n",
    "#              empty dictionary to store required params of a tweet \n",
    "            parsed_tweet = {} \n",
    "\n",
    "#             # saving text of tweet \n",
    "            parsed_tweet['text'] = tweet.text \n",
    "#             # saving sentiment of tweet \n",
    "            parsed_tweet['sentiment'] = self.get_tweet_sentiment(tweet.text) \n",
    "#             # appending parsed tweet to tweets list \n",
    "            if tweet.retweet_count > 0: \n",
    "#             # if tweet has retweets, ensure that it is appended only once \n",
    "                if parsed_tweet not in tweets: \n",
    "                    tweets.append(parsed_tweet) \n",
    "                else: \n",
    "                    tweets.append(parsed_tweet) \n",
    "\n",
    "#         # return parsed tweets \n",
    "        return tweets \n",
    "\n",
    "\n",
    "\n",
    "\n",
    "\n",
    "\n",
    "def main():\n",
    "    a = TwitterClient()     \n",
    "    \n",
    "    tweets = a.get_tweets(query = 'cybertruck', count = 100)\n",
    "        \n",
    "    ptweets = [tweet for tweet in tweets if tweet['sentiment'] == 'positive']\n",
    "        # percentage of positive tweets \n",
    "    print(\"Positive tweets percentage: {} %\".format(100*len(ptweets)/len(tweets)))    \n",
    "    ntweets = [tweet for tweet in tweets if tweet['sentiment'] == 'negative']\n",
    "    print(\"negative tweets percentage: {} %\".format(100*len(ntweets)/len(tweets)))\n",
    "     \n",
    "        # printing first 5 positive tweets \n",
    "    print(\"\\n\\nPositive tweets:\") \n",
    "    for tweet in ptweets[:10]: \n",
    "        print(tweet['text']) \n",
    "        # printing first 5 positive tweets \n",
    "    print(\"\\n\\nPositive tweets:\") \n",
    "    for tweet in ntweets[:10]: \n",
    "        print(tweet['text']) \n",
    "if __name__ == \"__main__\": \n",
    "    # calling main function \n",
    "    main() \n",
    "\n"
   ]
  },
  {
   "cell_type": "code",
   "execution_count": null,
   "metadata": {},
   "outputs": [],
   "source": []
  },
  {
   "cell_type": "code",
   "execution_count": null,
   "metadata": {},
   "outputs": [],
   "source": []
  },
  {
   "cell_type": "code",
   "execution_count": null,
   "metadata": {},
   "outputs": [],
   "source": []
  },
  {
   "cell_type": "code",
   "execution_count": null,
   "metadata": {},
   "outputs": [],
   "source": []
  },
  {
   "cell_type": "code",
   "execution_count": null,
   "metadata": {},
   "outputs": [],
   "source": []
  },
  {
   "cell_type": "code",
   "execution_count": null,
   "metadata": {},
   "outputs": [],
   "source": []
  },
  {
   "cell_type": "code",
   "execution_count": 24,
   "metadata": {},
   "outputs": [
    {
     "data": {
      "text/plain": [
       "['RT',\n",
       " '@',\n",
       " '28delayslater',\n",
       " ':',\n",
       " 'I',\n",
       " 'admit',\n",
       " 'that',\n",
       " 'FSD',\n",
       " 'needs',\n",
       " 'a',\n",
       " 'little',\n",
       " 'work',\n",
       " 'for',\n",
       " 'the',\n",
       " '#',\n",
       " 'cybertruck',\n",
       " 'https',\n",
       " ':',\n",
       " '//t.co/GU8ApsjGSu']"
      ]
     },
     "execution_count": 24,
     "metadata": {},
     "output_type": "execute_result"
    }
   ],
   "source": [
    "# word_tokenize(t)\n"
   ]
  },
  {
   "cell_type": "code",
   "execution_count": null,
   "metadata": {},
   "outputs": [],
   "source": [
    "\n"
   ]
  },
  {
   "cell_type": "code",
   "execution_count": null,
   "metadata": {},
   "outputs": [],
   "source": []
  },
  {
   "cell_type": "code",
   "execution_count": null,
   "metadata": {},
   "outputs": [],
   "source": []
  },
  {
   "cell_type": "code",
   "execution_count": null,
   "metadata": {},
   "outputs": [],
   "source": []
  },
  {
   "cell_type": "code",
   "execution_count": null,
   "metadata": {},
   "outputs": [],
   "source": []
  }
 ],
 "metadata": {
  "kernelspec": {
   "display_name": "Python 3",
   "language": "python",
   "name": "python3"
  },
  "language_info": {
   "codemirror_mode": {
    "name": "ipython",
    "version": 3
   },
   "file_extension": ".py",
   "mimetype": "text/x-python",
   "name": "python",
   "nbconvert_exporter": "python",
   "pygments_lexer": "ipython3",
   "version": "3.7.3"
  }
 },
 "nbformat": 4,
 "nbformat_minor": 2
}
