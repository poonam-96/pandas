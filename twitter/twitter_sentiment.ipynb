{
 "cells": [
  {
   "cell_type": "code",
   "execution_count": 1,
   "metadata": {},
   "outputs": [
    {
     "name": "stdout",
     "output_type": "stream",
     "text": [
      "Positive tweets percentage: 47.252747252747255 %\n",
      "negative tweets percentage: 16.483516483516482 %\n",
      "\n",
      "\n",
      "Positive tweets:\n",
      "RT @flippersanalove: \"Alag hain, natural hain aur achi bhi hain\" Salman Khan #DeshKiAwaazShehnaaz\n",
      "RT @SagarRathore_: The best thing about Salman Khan is he laughs wholeheartedly ! 🤣 \n",
      "\n",
      "#BB13 #Biggboss13\n",
      "RT @SidNaazFan143: The way salman Khan has backed shehnaaz till now I have never seen him connected to any contestant. She's Winning hearts…\n",
      "RT @SidNaazFan143: The way salman Khan has backed shehnaaz till now I have never seen him connected to any contestant. She's Winning hearts…\n",
      "RT @JavedNLaghari: Celebrated Birthday of Bibi @AseefaBZ by #PYO distt Malir. Min LG @SyedNasirHShah, Murtaza Baloch, Salman Murad, Salim B…\n",
      "RT @SidNaazFan143: The way salman Khan has backed shehnaaz till now I have never seen him connected to any contestant. She's Winning hearts…\n",
      "RT @RealVinduSingh: Bigg Boss 13: 5 Reasons why Sidharth Shukla might go on to win the Salman Khan show | PINKVILLA https://t.co/CTXhPUvAzb…\n",
      "RT @RealVinduSingh: Bigg Boss 13: 5 Reasons why Sidharth Shukla might go on to win the Salman Khan show | PINKVILLA https://t.co/CTXhPUvAzb…\n",
      "RT @RealVinduSingh: Bigg Boss 13: 5 Reasons why Sidharth Shukla might go on to win the Salman Khan show | PINKVILLA https://t.co/CTXhPUvAzb…\n",
      "RT @SidNaazFan143: The way salman Khan has backed shehnaaz till now I have never seen him connected to any contestant. She's Winning hearts…\n",
      "\n",
      "\n",
      "Negative tweets:\n",
      "RT @BiggBos_Tak: Breaking!\n",
      "\n",
      "The wait is over!\n",
      "\n",
      "Shehnaz Gill has been declared WINNER by Salman Khan just now!\n",
      "\n",
      "After a long hands up down g…\n",
      "RT @Bashira84117529: Today Salman Khan also said without Sana BiggBoss house is empty. Indeed BiggBoss is empty with out Sana. She’s is onl…\n",
      "RT @ImmaWoundedSoul: #ShehnaazGiII to Salman Khan, Guests,HMs ::: #SidharthShukla called me flipper, mere character pe bola.. Sid mujhe hur…\n",
      "RT @Bashira84117529: Today Salman Khan also said without Sana BiggBoss house is empty. Indeed BiggBoss is empty with out Sana. She’s is onl…\n",
      "RT @ImmaWoundedSoul: #ShehnaazGiII to Salman Khan, Guests,HMs ::: #SidharthShukla called me flipper, mere character pe bola.. Sid mujhe hur…\n",
      "RT @iidesii1: Making place in heart of single person is very hard but she has made her space in our hearts and Salman Khan's heart it's not…\n",
      "RT @ImmaWoundedSoul: #ShehnaazGiII to Salman Khan, Guests,HMs ::: #SidharthShukla called me flipper, mere character pe bola.. Sid mujhe hur…\n",
      "RT @ik_taraa: I am not at all liking the way channel is using Salman Khan to unnecessarily pump &amp; instigate SnakeNaaz against Sid, Paras &amp;…\n",
      "RT @BiggBos_Tak: Breaking!\n",
      "\n",
      "The wait is over!\n",
      "\n",
      "Shehnaz Gill has been declared WINNER by Salman Khan just now!\n",
      "\n",
      "After a long hands up down g…\n",
      "RT @Bashira84117529: Today Salman Khan also said without Sana BiggBoss house is empty. Indeed BiggBoss is empty with out Sana. She’s is onl…\n"
     ]
    }
   ],
   "source": [
    "import re \n",
    "import tweepy \n",
    "import nltk\n",
    "from nltk.tokenize import sent_tokenize, word_tokenize\n",
    "from tweepy import OAuthHandler \n",
    "from textblob import TextBlob\n",
    "\n",
    "class TwitterClient(object): \n",
    "# keys and tokens from the Twitter Dev Console \n",
    "    def __init__(self): \n",
    "        consumer_key = 'TmM4kWPfDYkx0mozt0kfaezhV'\n",
    "        consumer_secret = '9azvdFeIyvy8AMFjMxB7OmRHz20DwiCBgaaA2hGxTG4CAGaINT'\n",
    "        access_token = '1132261947955503105-JOAojMM2GiGDlOxP6YlE1Mva80v9dt'\n",
    "        access_token_secret = 'ub5uOizJskchxzykxC6piOtsjnWAUkUcFHYizNOSDw8Xb'\n",
    "\n",
    "        self.auth = OAuthHandler(consumer_key, consumer_secret)\n",
    "\n",
    "        self.auth.set_access_token(access_token, access_token_secret) \n",
    "# create tweepy API object to fetch tweets \n",
    "        self.api = tweepy.API(self.auth) \n",
    "\n",
    "\n",
    "    def clean_tweet(self, tweet):\n",
    "# ''' Utility function to clean tweet text by removing links, special characters '''\n",
    "        return ' '.join(re.sub(\"(@[A-Za-z0-9]+)|([^0-9A-Za-z \\t])|(\\w+:\\/\\/\\S+)\", \" \", tweet).split())\n",
    "\n",
    "\n",
    "    def get_tweet_sentiment(self, tweet): \n",
    "#  Utility function to classify sentiment of passed tweet using textblob's sentiment method '''\n",
    "# create TextBlob object of passed tweet text \n",
    "        analysis = TextBlob(self.clean_tweet(tweet)) \n",
    "# set sentiment \n",
    "        if analysis.sentiment.polarity > 0: \n",
    "            return 'positive'\n",
    "        elif analysis.sentiment.polarity == 0: \n",
    "            return 'neutral'\n",
    "        else: \n",
    "            return 'negative'\n",
    "\n",
    "\n",
    "    \n",
    "\n",
    "    def get_tweets(self, query, count = 10 ):\n",
    "        tweets = []\n",
    "        \n",
    "        fetched_tweets = self.api.search(q = query, count = count) \n",
    "       \n",
    "        for tweet in fetched_tweets: \n",
    "#              empty dictionary to store required params of a tweet \n",
    "            parsed_tweet = {} \n",
    "\n",
    "#             # saving text of tweet \n",
    "            parsed_tweet['text'] = tweet.text \n",
    "#             # saving sentiment of tweet \n",
    "            parsed_tweet['sentiment'] = self.get_tweet_sentiment(tweet.text) \n",
    "#             # appending parsed tweet to tweets list \n",
    "            if tweet.retweet_count > 0: \n",
    "#             # if tweet has retweets, ensure that it is appended only once \n",
    "                if parsed_tweet not in tweets: \n",
    "                    tweets.append(parsed_tweet) \n",
    "                else: \n",
    "                    tweets.append(parsed_tweet) \n",
    "\n",
    "#         # return parsed tweets \n",
    "        return tweets \n",
    "\n",
    "\n",
    "\n",
    "\n",
    "\n",
    "\n",
    "def main():\n",
    "    a = TwitterClient()     \n",
    "    \n",
    "    tweets = a.get_tweets(query = 'salman khan', count = 100)\n",
    "        \n",
    "    ptweets = [tweet for tweet in tweets if tweet['sentiment'] == 'positive']\n",
    "        # percentage of positive tweets \n",
    "    print(\"Positive tweets percentage: {} %\".format(100*len(ptweets)/len(tweets)))    \n",
    "    ntweets = [tweet for tweet in tweets if tweet['sentiment'] == 'negative']\n",
    "    print(\"negative tweets percentage: {} %\".format(100*len(ntweets)/len(tweets)))\n",
    "     \n",
    "        # printing first 5 positive tweets \n",
    "    print(\"\\n\\nPositive tweets:\") \n",
    "    for tweet in ptweets[:10]: \n",
    "        print(tweet['text']) \n",
    "        # printing first 5 positive tweets \n",
    "    print(\"\\n\\nNegative tweets:\") \n",
    "    for tweet in ntweets[:10]: \n",
    "        print(tweet['text']) \n",
    "if __name__ == \"__main__\": \n",
    "    # calling main function \n",
    "    main() \n",
    "\n"
   ]
  },
  {
   "cell_type": "code",
   "execution_count": null,
   "metadata": {},
   "outputs": [],
   "source": [
    "++"
   ]
  },
  {
   "cell_type": "code",
   "execution_count": null,
   "metadata": {},
   "outputs": [],
   "source": []
  },
  {
   "cell_type": "code",
   "execution_count": null,
   "metadata": {},
   "outputs": [],
   "source": []
  },
  {
   "cell_type": "code",
   "execution_count": null,
   "metadata": {},
   "outputs": [],
   "source": []
  },
  {
   "cell_type": "code",
   "execution_count": null,
   "metadata": {},
   "outputs": [],
   "source": []
  },
  {
   "cell_type": "code",
   "execution_count": null,
   "metadata": {},
   "outputs": [],
   "source": []
  },
  {
   "cell_type": "code",
   "execution_count": 24,
   "metadata": {},
   "outputs": [
    {
     "data": {
      "text/plain": [
       "['RT',\n",
       " '@',\n",
       " '28delayslater',\n",
       " ':',\n",
       " 'I',\n",
       " 'admit',\n",
       " 'that',\n",
       " 'FSD',\n",
       " 'needs',\n",
       " 'a',\n",
       " 'little',\n",
       " 'work',\n",
       " 'for',\n",
       " 'the',\n",
       " '#',\n",
       " 'cybertruck',\n",
       " 'https',\n",
       " ':',\n",
       " '//t.co/GU8ApsjGSu']"
      ]
     },
     "execution_count": 24,
     "metadata": {},
     "output_type": "execute_result"
    }
   ],
   "source": [
    "# word_tokenize(t)\n"
   ]
  },
  {
   "cell_type": "code",
   "execution_count": null,
   "metadata": {},
   "outputs": [],
   "source": [
    "\n"
   ]
  },
  {
   "cell_type": "code",
   "execution_count": null,
   "metadata": {},
   "outputs": [],
   "source": []
  },
  {
   "cell_type": "code",
   "execution_count": null,
   "metadata": {},
   "outputs": [],
   "source": []
  },
  {
   "cell_type": "code",
   "execution_count": null,
   "metadata": {},
   "outputs": [],
   "source": []
  },
  {
   "cell_type": "code",
   "execution_count": null,
   "metadata": {},
   "outputs": [],
   "source": []
  }
 ],
 "metadata": {
  "kernelspec": {
   "display_name": "Python 3",
   "language": "python",
   "name": "python3"
  },
  "language_info": {
   "codemirror_mode": {
    "name": "ipython",
    "version": 3
   },
   "file_extension": ".py",
   "mimetype": "text/x-python",
   "name": "python",
   "nbconvert_exporter": "python",
   "pygments_lexer": "ipython3",
   "version": "3.7.3"
  }
 },
 "nbformat": 4,
 "nbformat_minor": 2
}
